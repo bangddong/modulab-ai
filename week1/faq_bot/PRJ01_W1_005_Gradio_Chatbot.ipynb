{
 "cells": [
  {
   "cell_type": "markdown",
   "id": "1d2631b5",
   "metadata": {},
   "source": [
    "#  Gradio 챗봇 구현 (간단한 QA 애플리케이션)\n",
    "\n",
    "### **학습 목표:** LangChain의 LCEL을 활용하여 Gradio 기반의 AI 챗봇을 설계한다.\n",
    "\n",
    "---"
   ]
  },
  {
   "cell_type": "markdown",
   "id": "8bfd9328",
   "metadata": {
    "id": "8bfd9328"
   },
   "source": [
    "##  환경 설정"
   ]
  },
  {
   "cell_type": "code",
   "execution_count": 1,
   "id": "15ac3ddb",
   "metadata": {
    "id": "15ac3ddb"
   },
   "outputs": [
    {
     "data": {
      "text/plain": [
       "True"
      ]
     },
     "execution_count": 1,
     "metadata": {},
     "output_type": "execute_result"
    }
   ],
   "source": [
    "from dotenv import load_dotenv\n",
    "load_dotenv()"
   ]
  },
  {
   "cell_type": "markdown",
   "id": "129b8eee",
   "metadata": {
    "id": "129b8eee"
   },
   "source": [
    "## Simple QA Chain  "
   ]
  },
  {
   "cell_type": "code",
   "execution_count": null,
   "id": "3722db67",
   "metadata": {
    "id": "3722db67"
   },
   "outputs": [],
   "source": [
    "from langchain_openai import ChatOpenAI\n",
    "from langchain_core.prompts import ChatPromptTemplate\n",
    "from langchain_core.output_parsers import StrOutputParser\n",
    "\n",
    "# 프롬프트 템플릿 정의\n",
    "prompt = ChatPromptTemplate.from_messages([\n",
    "    (\"system\", \"당신은 파이썬(Python) 코드 작성을 도와주는 AI 어시스턴트입니다.\"),\n",
    "    (\"human\", \"{user_input}\")\n",
    "])\n",
    "\n",
    "# LLM 모델 정의\n",
    "model = ChatOpenAI(\n",
    "    model=\"gpt-4.1-mini\", \n",
    "    temperature=0.3, \n",
    "    )\n",
    "\n",
    "# 프롬프트 템플릿 + LLM 모델 + 출력파서를 연결하여 체인 생성\n",
    "chain = prompt | model | StrOutputParser()\n",
    "\n",
    "# 체인 실행\n",
    "response = chain.invoke({\n",
    "    \"user_input\": \"파이썬에서 리스트를 정렬하는 방법은 무엇인가요?\"\n",
    "})\n",
    "\n",
    "# AI의 응답 텍스트를 출력 \n",
    "print(response)"
   ]
  },
  {
   "cell_type": "code",
   "execution_count": null,
   "id": "9e87eef4",
   "metadata": {
    "id": "9e87eef4"
   },
   "outputs": [],
   "source": [
    "# 마크다운 출력\n",
    "from IPython.display import display, Markdown\n",
    "\n",
    "display(Markdown(response))"
   ]
  },
  {
   "cell_type": "markdown",
   "id": "d47a59f9",
   "metadata": {},
   "source": [
    "## Gradio ChatInterface  \n",
    "- 설치: pip install gradio --upgrade , uv add gradio"
   ]
  },
  {
   "cell_type": "markdown",
   "id": "e17f810a",
   "metadata": {},
   "source": [
    "### 1) 기본 구조"
   ]
  },
  {
   "cell_type": "code",
   "execution_count": null,
   "id": "65443d80",
   "metadata": {},
   "outputs": [
    {
     "name": "stderr",
     "output_type": "stream",
     "text": [
      "e:\\study\\modulab-ai\\week1\\faq_bot\\.venv\\Lib\\site-packages\\tqdm\\auto.py:21: TqdmWarning: IProgress not found. Please update jupyter and ipywidgets. See https://ipywidgets.readthedocs.io/en/stable/user_install.html\n",
      "  from .autonotebook import tqdm as notebook_tqdm\n"
     ]
    },
    {
     "name": "stdout",
     "output_type": "stream",
     "text": [
      "* Running on local URL:  http://127.0.0.1:7860\n",
      "* To create a public link, set `share=True` in `launch()`.\n"
     ]
    },
    {
     "data": {
      "text/html": [
       "<div><iframe src=\"http://127.0.0.1:7860/\" width=\"100%\" height=\"500\" allow=\"autoplay; camera; microphone; clipboard-read; clipboard-write;\" frameborder=\"0\" allowfullscreen></iframe></div>"
      ],
      "text/plain": [
       "<IPython.core.display.HTML object>"
      ]
     },
     "metadata": {},
     "output_type": "display_data"
    },
    {
     "data": {
      "text/plain": []
     },
     "execution_count": 2,
     "metadata": {},
     "output_type": "execute_result"
    },
    {
     "name": "stdout",
     "output_type": "stream",
     "text": [
      "입력 메시지: 안녕?\n",
      "----------------------------------------\n",
      "채팅 히스토리:\n",
      "입력 메시지: 테스트\n",
      "----------------------------------------\n",
      "채팅 히스토리:\n"
     ]
    }
   ],
   "source": [
    "import gradio as gr\n",
    "\n",
    "# 챗봇 함수 정의\n",
    "def chat_function(message, history):\n",
    "    # 메시지 출력\n",
    "    print(f\"입력 메시지: {message}\")\n",
    "    print(\"-\"*40)\n",
    "    # 채팅 히스토리 출력\n",
    "    print(f\"채팅 히스토리:\")\n",
    "    for chat in history:\n",
    "        print(f\"사용자: {chat['role']}, 메시지: {chat['content']}\")\n",
    "        print(\"-\"*40)\n",
    "    return \"응답 메시지\"\n",
    "\n",
    "# 챗봇 인터페이스 생성\n",
    "demo = gr.ChatInterface(\n",
    "    fn=chat_function,  # 실행할 함수\n",
    "    analytics_enabled=False,  # 사용 정보 제공 여부\n",
    "    type=\"messages\",     # 채팅 기록이 딕셔너리 리스트 형태의 OpenAI 스타일 포맷으로 전달\n",
    ")\n",
    "\n",
    "# 챗봇 인터페이스 실행\n",
    "demo.launch()"
   ]
  },
  {
   "cell_type": "code",
   "execution_count": 3,
   "id": "b6df357c",
   "metadata": {},
   "outputs": [
    {
     "name": "stdout",
     "output_type": "stream",
     "text": [
      "Closing server running on port: 7860\n"
     ]
    }
   ],
   "source": [
    "# 인터페이스 종료\n",
    "demo.close()"
   ]
  },
  {
   "cell_type": "markdown",
   "id": "d070bc3e",
   "metadata": {},
   "source": [
    "### 2) 간단한 예제: Echo 챗봇"
   ]
  },
  {
   "cell_type": "code",
   "execution_count": null,
   "id": "8df39e39",
   "metadata": {},
   "outputs": [],
   "source": [
    "def echo_bot(message, history):\n",
    "    return f\"당신이 입력한 메시지: {message}\"\n",
    "\n",
    "demo = gr.ChatInterface(\n",
    "    fn=echo_bot,\n",
    "    title=\"Echo 챗봇\",\n",
    "    description=\"입력한 메시지를 그대로 되돌려주는 챗봇입니다.\",\n",
    "    analytics_enabled=False,  \n",
    ")\n",
    "\n",
    "demo.launch()"
   ]
  },
  {
   "cell_type": "code",
   "execution_count": null,
   "id": "eea11f99",
   "metadata": {},
   "outputs": [],
   "source": [
    "demo.close()"
   ]
  },
  {
   "cell_type": "markdown",
   "id": "20c3c244",
   "metadata": {},
   "source": [
    "### 3) 스트리밍 응답"
   ]
  },
  {
   "cell_type": "code",
   "execution_count": null,
   "id": "18d36896",
   "metadata": {},
   "outputs": [],
   "source": [
    "# 스트리밍 챗봇 함수 정의\n",
    "import time\n",
    "\n",
    "def streaming_bot(message, history):\n",
    "    response = f\"처리 중인 메시지: {message}\"\n",
    "    for i in range(len(response)):\n",
    "        time.sleep(0.1)          # 0.1초 대기\n",
    "        yield response[:i+1]"
   ]
  },
  {
   "cell_type": "code",
   "execution_count": null,
   "id": "4f38cc55",
   "metadata": {},
   "outputs": [],
   "source": [
    "# 스트리밍 챗봇 인터페이스 생성\n",
    "demo = gr.ChatInterface(\n",
    "    fn=streaming_bot,\n",
    "    title=\"스트리밍 챗봇\",\n",
    "    description=\"입력한 메시지를 한 글자씩 처리하는 챗봇입니다.\",\n",
    "    analytics_enabled=False,  \n",
    ")\n",
    "\n",
    "# 스트리밍 챗봇 인터페이스 실행\n",
    "demo.launch()"
   ]
  },
  {
   "cell_type": "code",
   "execution_count": null,
   "id": "9ffdd862",
   "metadata": {},
   "outputs": [],
   "source": [
    "demo.close()"
   ]
  },
  {
   "cell_type": "markdown",
   "id": "f5129fcd",
   "metadata": {},
   "source": [
    "### 4) 추가 입력 컴포넌트\n",
    "- 최대 응답 길이 등 기타 설정을 위한 추가 입력"
   ]
  },
  {
   "cell_type": "code",
   "execution_count": null,
   "id": "4d6069ca",
   "metadata": {
    "jupyter": {
     "is_executing": true
    }
   },
   "outputs": [],
   "source": [
    "from langchain_openai import ChatOpenAI\n",
    "from langchain_google_genai import ChatGoogleGenerativeAI\n",
    "\n",
    "\n",
    "# 프롬프트 템플릿 정의\n",
    "prompt = ChatPromptTemplate.from_messages([\n",
    "    (\"system\", \"당신은 파이썬(Python) 코드 작성을 도와주는 AI 어시스턴트입니다.\"),\n",
    "    (\"human\", \"{user_input}\")\n",
    "])\n",
    "\n",
    "\n",
    "# 챗봇 함수 정의\n",
    "def chat_function(message, history, model, temperature):\n",
    "\n",
    "    if model == \"gpt-4.1-mini\":\n",
    "        model = ChatOpenAI(model=model, temperature=temperature)\n",
    "    elif model == \"gemini-2.0-flash\":\n",
    "        model = ChatGoogleGenerativeAI(model=model, temperature=temperature)\n",
    "\n",
    "    chain = prompt | model | StrOutputParser()\n",
    "\n",
    "    response = chain.invoke({\n",
    "        \"user_input\": message\n",
    "    })\n",
    "    return response\n",
    "\n",
    "# 챗봇 인터페이스 생성\n",
    "with gr.Blocks() as demo:\n",
    "    model_selector = gr.Dropdown([\"gpt-4.1-mini\", \"gemini-2.0-flash\"], label=\"모델 선택\")\n",
    "    slider = gr.Slider(0.0, 1.0, label=\"Temperature\", value=0.3, step=0.1, render=False)   \n",
    "\n",
    "    gr.ChatInterface(\n",
    "        fn=chat_function, \n",
    "        additional_inputs=[model_selector, slider],\n",
    "        analytics_enabled=False,  \n",
    "    )\n",
    "\n",
    "# 챗봇 인터페이스 실행\n",
    "demo.launch()"
   ]
  },
  {
   "cell_type": "code",
   "execution_count": null,
   "id": "ff42f636",
   "metadata": {},
   "outputs": [],
   "source": [
    "demo.close()"
   ]
  },
  {
   "cell_type": "markdown",
   "id": "e05c70ea",
   "metadata": {},
   "source": [
    "### 5) 예시 질문 설정"
   ]
  },
  {
   "cell_type": "code",
   "execution_count": null,
   "id": "c44c455e",
   "metadata": {
    "jupyter": {
     "is_executing": true
    }
   },
   "outputs": [],
   "source": [
    "# 스트리밍 챗봇 인터페이스 생성\n",
    "demo = gr.ChatInterface(\n",
    "    fn=streaming_bot,\n",
    "    title=\"스트리밍 챗봇\",\n",
    "    description=\"입력한 메시지를 한 글자씩 처리하는 챗봇입니다.\",\n",
    "    analytics_enabled=False,  \n",
    "    examples=[\n",
    "        \"파이썬 코드를 작성하는 방법을 알려주세요\",\n",
    "        \"파이썬에서 리스트를 정렬하는 방법은 무엇인가요?\",\n",
    "    ]    \n",
    ")\n",
    "\n",
    "# 스트리밍 챗봇 인터페이스 실행\n",
    "demo.launch()"
   ]
  },
  {
   "cell_type": "code",
   "execution_count": null,
   "id": "b16cb24f",
   "metadata": {},
   "outputs": [],
   "source": [
    "demo.close()    "
   ]
  },
  {
   "cell_type": "markdown",
   "id": "0309e370",
   "metadata": {},
   "source": [
    "### 6) 멀티모달 기능\n",
    "- `multimodal=True` 옵션\n",
    "- 이미지나 파일을 처리할 수 있는 멀티모달 챗봇 구현\n",
    "\n",
    "- message 파라미터:\n",
    "    ```python\n",
    "    {\n",
    "        \"text\": \"user input\", \n",
    "        \"files\": [\n",
    "            \"updated_file_1_path.ext\",\n",
    "            \"updated_file_2_path.ext\", \n",
    "            ...\n",
    "        ]\n",
    "    }\n",
    "    ```\n",
    "- history 파라미터:\n",
    "    ```python\n",
    "    [\n",
    "        {\"role\": \"user\", \"content\": (\"cat1.png\")},\n",
    "        {\"role\": \"user\", \"content\": (\"cat2.png\")},\n",
    "        {\"role\": \"user\", \"content\": \"What's the difference between these two images?\"},\n",
    "    ]\n",
    "    ```"
   ]
  },
  {
   "cell_type": "code",
   "execution_count": 2,
   "id": "709da9f9",
   "metadata": {},
   "outputs": [
    {
     "name": "stdout",
     "output_type": "stream",
     "text": [
      "* Running on local URL:  http://127.0.0.1:7860\n",
      "* To create a public link, set `share=True` in `launch()`.\n"
     ]
    },
    {
     "data": {
      "text/html": [
       "<div><iframe src=\"http://127.0.0.1:7860/\" width=\"100%\" height=\"500\" allow=\"autoplay; camera; microphone; clipboard-read; clipboard-write;\" frameborder=\"0\" allowfullscreen></iframe></div>"
      ],
      "text/plain": [
       "<IPython.core.display.HTML object>"
      ]
     },
     "metadata": {},
     "output_type": "display_data"
    },
    {
     "data": {
      "text/plain": []
     },
     "execution_count": 2,
     "metadata": {},
     "output_type": "execute_result"
    }
   ],
   "source": [
    "import gradio as gr\n",
    "import base64\n",
    "from langchain_core.messages import HumanMessage\n",
    "from langchain_google_genai import ChatGoogleGenerativeAI\n",
    "\n",
    "def convert_to_url(image_path):\n",
    "    \"\"\"이미지를 URL 형식으로 변환\"\"\"\n",
    "    with open(image_path, \"rb\") as image_file:\n",
    "        # 이미지를 base64로 인코딩\n",
    "        encoded_string = base64.b64encode(image_file.read()).decode('utf-8')\n",
    "        return f\"data:image/jpeg;base64,{encoded_string}\"\n",
    "\n",
    "def multimodal_bot(message, history):\n",
    "\n",
    "    model = ChatGoogleGenerativeAI(model=\"gemini-2.0-flash\")\n",
    "    \n",
    "    if isinstance(message, dict):\n",
    "        # 텍스트와 파일 추출\n",
    "        text = message.get(\"text\", \"\")\n",
    "        \n",
    "        # 히스토리와 현재 메시지에서 모든 파일 경로 추출\n",
    "        filepath_list = []\n",
    "        \n",
    "        # 히스토리에서 이미지 파일 추출\n",
    "        print(\"History:\", history)  # 디버깅용\n",
    "        for exchange in history:\n",
    "            user_message = exchange[0]\n",
    "            if isinstance(user_message, tuple):  # 이미지 메시지 확인\n",
    "                filepath_list.append(user_message[0])\n",
    "        \n",
    "        # 현재 메시지의 파일들도 추가\n",
    "        files = message.get(\"files\", [])\n",
    "        filepath_list.extend(files)\n",
    "        \n",
    "        print(\"Filepath list:\", filepath_list)  # 디버깅용\n",
    "        \n",
    "        if filepath_list:\n",
    "            # 모든 이미지 처리\n",
    "            image_urls = []\n",
    "            for file_path in filepath_list:\n",
    "                try:\n",
    "                    image_url = convert_to_url(file_path)\n",
    "                    image_urls.append({\"type\": \"image_url\", \"image_url\": image_url})\n",
    "                except Exception as e:\n",
    "                    print(f\"이미지 처리 중 오류 발생: {e}\")\n",
    "                    continue\n",
    "            \n",
    "            if not image_urls:\n",
    "                return \"이미지 처리 중 오류가 발생했습니다.\"\n",
    "            \n",
    "            # 메시지 구성\n",
    "            content = [\n",
    "                {\"type\": \"text\", \"text\": text if text else \"이 이미지들에 대해 설명해주세요.\"},\n",
    "                *image_urls\n",
    "            ]\n",
    "            \n",
    "            try:\n",
    "                # API 호출\n",
    "                response = model.invoke([\n",
    "                    HumanMessage(content=content)\n",
    "                ])\n",
    "                return response.content\n",
    "            except Exception as e:\n",
    "                return f\"모델 응답 생성 중 오류가 발생했습니다: {str(e)}\"\n",
    "        \n",
    "        return text if text else \"이미지를 업로드해주세요.\"\n",
    "    \n",
    "    return \"텍스트나 이미지를 입력해주세요.\"\n",
    "\n",
    "# Gradio 인터페이스 설정\n",
    "demo = gr.ChatInterface(\n",
    "    fn=multimodal_bot,\n",
    "    type=\"messages\",\n",
    "    multimodal=True,\n",
    "    title=\"멀티모달 챗봇\",\n",
    "    description=\"텍스트와 이미지를 함께 처리할 수 있는 챗봇입니다. 이전 대화의 이미지들도 함께 고려합니다.\",\n",
    "    analytics_enabled=False,  \n",
    "    textbox=gr.MultimodalTextbox(placeholder=\"텍스트를 입력하거나 이미지를 업로드해주세요.\", file_count=\"multiple\", file_types=[\"image\"]),\n",
    ")\n",
    "\n",
    "# 인터페이스 실행\n",
    "demo.launch()"
   ]
  },
  {
   "cell_type": "code",
   "execution_count": 3,
   "id": "e8086535",
   "metadata": {},
   "outputs": [
    {
     "name": "stdout",
     "output_type": "stream",
     "text": [
      "Closing server running on port: 7860\n"
     ]
    }
   ],
   "source": [
    "demo.close()"
   ]
  },
  {
   "cell_type": "markdown",
   "id": "6ae3e9b8",
   "metadata": {},
   "source": [
    "### 7) PDF 뷰어\n",
    "- 설치: pip install gradio_pdf 또는 poetry add gradio_pdf"
   ]
  },
  {
   "cell_type": "code",
   "execution_count": 4,
   "id": "f63e62dc",
   "metadata": {},
   "outputs": [
    {
     "name": "stdout",
     "output_type": "stream",
     "text": [
      "* Running on local URL:  http://127.0.0.1:7860\n",
      "* To create a public link, set `share=True` in `launch()`.\n"
     ]
    },
    {
     "data": {
      "text/html": [
       "<div><iframe src=\"http://127.0.0.1:7860/\" width=\"100%\" height=\"500\" allow=\"autoplay; camera; microphone; clipboard-read; clipboard-write;\" frameborder=\"0\" allowfullscreen></iframe></div>"
      ],
      "text/plain": [
       "<IPython.core.display.HTML object>"
      ]
     },
     "metadata": {},
     "output_type": "display_data"
    },
    {
     "data": {
      "text/plain": []
     },
     "execution_count": 4,
     "metadata": {},
     "output_type": "execute_result"
    }
   ],
   "source": [
    "from gradio_pdf import PDF\n",
    "\n",
    "def answer_invoke(message, history):   \n",
    "    return message\n",
    "\n",
    "with gr.Blocks(\n",
    "    analytics_enabled=False,  \n",
    ") as demo:\n",
    "    with gr.Row():\n",
    "        # API Key Section\n",
    "        api_key_input = gr.Textbox(\n",
    "            label=\"Enter OpenAI API Key\",\n",
    "            type=\"password\",\n",
    "            placeholder=\"sk-...\"\n",
    "        )\n",
    "        \n",
    "    with gr.Row():\n",
    "        # PDF Upload and Chat Interface\n",
    "        with gr.Column(scale=2):\n",
    "            pdf_file = PDF(\n",
    "                label=\"Upload PDF File\",\n",
    "                height=600,  # PDF 뷰어 높이 설정\n",
    "            )\n",
    "        with gr.Column(scale=1):\n",
    "            chatbot = gr.ChatInterface(\n",
    "                fn=answer_invoke,\n",
    "                type=\"messages\",\n",
    "                title=\"PDF-based Chatbot\",\n",
    "                description=\"Upload a PDF file and ask questions about its contents.\",\n",
    "            )\n",
    "\n",
    "\n",
    "demo.launch()"
   ]
  },
  {
   "cell_type": "code",
   "execution_count": 5,
   "id": "db19ce00",
   "metadata": {},
   "outputs": [
    {
     "name": "stdout",
     "output_type": "stream",
     "text": [
      "Closing server running on port: 7860\n"
     ]
    }
   ],
   "source": [
    "demo.close()"
   ]
  },
  {
   "cell_type": "markdown",
   "id": "d7369f37",
   "metadata": {},
   "source": [
    "## Memory 추가"
   ]
  },
  {
   "cell_type": "code",
   "execution_count": null,
   "id": "c3d508b1",
   "metadata": {},
   "outputs": [],
   "source": [
    "# chat_history 플레이스홀더를 사용\n",
    "from langchain_core.prompts import ChatPromptTemplate, MessagesPlaceholder\n",
    "from langchain_core.messages import HumanMessage, AIMessage\n",
    "\n",
    "# 메시지 플레이스홀더가 있는 프롬프트 템플릿 정의\n",
    "prompt = ChatPromptTemplate.from_messages([\n",
    "    (\"system\", \"당신은 파이썬(Python) 코드 작성을 도와주는 AI 어시스턴트입니다.\"),\n",
    "    MessagesPlaceholder(\"chat_history\"),\n",
    "    (\"system\", \"이전 대화 내용을 참고하여 질문에 대해서 친절하게 답변합니다.\"),\n",
    "    (\"human\", \"{user_input}\")\n",
    "])\n",
    "\n",
    "# 프롬프트 템플릿 + LLM 모델 + 출력파서를 연결하여 체인 생성\n",
    "chain = prompt | model | StrOutputParser()\n",
    "\n",
    "\n",
    "# 사용자 메시지를 처리하고 AI 응답을 생성하는 함수 (chat_history 사용)\n",
    "def answer_invoke(message, history):\n",
    "\n",
    "    history_messages = []\n",
    "    for msg in history:\n",
    "        if msg['role'] == \"user\":\n",
    "            history_messages.append(HumanMessage(content=msg['content']))\n",
    "        elif msg['role'] == \"assistant\":\n",
    "            history_messages.append(AIMessage(content=msg['content']))\n",
    "\n",
    "    history_messages.append(HumanMessage(content=message))\n",
    "    response = chain.invoke({\n",
    "        \"chat_history\": history_messages,\n",
    "        \"user_input\": message\n",
    "    })\n",
    "    return response\n",
    "    \n",
    "\n",
    "# Gradio ChatInterface 객체 생성\n",
    "demo = gr.ChatInterface(\n",
    "    fn=answer_invoke,         # 메시지 처리 함수\n",
    "    type=\"messages\",\n",
    "    title=\"파이썬 코드 어시스턴트\", # 채팅 인터페이스의 제목\n",
    "    )\n",
    "\n",
    "# Gradio 인터페이스 실행\n",
    "demo.launch()"
   ]
  },
  {
   "cell_type": "code",
   "execution_count": null,
   "id": "576dbb2c",
   "metadata": {},
   "outputs": [],
   "source": [
    "# Gradio 인터페이스 종료\n",
    "demo.close()"
   ]
  },
  {
   "cell_type": "markdown",
   "id": "367d46b8",
   "metadata": {},
   "source": [
    "# [실습 프로젝트]"
   ]
  },
  {
   "cell_type": "markdown",
   "id": "fd5b260a",
   "metadata": {},
   "source": [
    "- **다음과 같은 요구사항을 Gradio ChatInterface로 구현합니다**\n",
    "\n",
    "- 주제: 맞춤형 여행 일정 계획 어시스턴트\n",
    "- 기능: \n",
    "   - OpenAI Chat Completion API와 LangChain을 활용하여 사용자의 선호도에 맞는 여행 일정을 생성\n",
    "   - LCEL을 사용하여 단계별 프롬프트 체인 구성 (사용자 입력 분석 -> 일정 생성 -> 세부 계획 수립)\n",
    "   - 채팅 히스토리 사용하여 답변 생성\n",
    "   - Gradio 인터페이스를 통해 사용자와 대화형으로 상호작용\n",
    "\n",
    "- 주요 포인트:\n",
    "\n",
    "   1. **모델 매개변수 최적화**\n",
    "      - temperature=0.7: 적당한 창의성을 유지하면서 일관된 응답 생성\n",
    "      - top_p=0.9: 높은 확률의 토큰만 선택하여 응답의 품질 향상\n",
    "      - presence_penalty와 frequency_penalty: 반복적인 응답을 줄이고 다양한 제안 생성\n",
    "\n",
    "   2. **시스템 프롬프트 설계**\n",
    "      - 여행 플래너로서의 역할과 응답 가이드라인을 명확히 정의\n",
    "      - 구체적인 정보를 포함하도록 지시\n",
    "      - 한국어 응답 명시\n",
    "\n",
    "   3. **메모리 관리**\n",
    "      - Gradio 또는 LangChain 메모리 기능을 사용하여 대화 컨텍스트 유지\n",
    "      - 이전 대화 내용을 바탕으로 연속성 있는 응답 생성"
   ]
  },
  {
   "cell_type": "code",
   "execution_count": null,
   "id": "cb272ea5",
   "metadata": {},
   "outputs": [],
   "source": [
    "from dotenv import load_dotenv\n",
    "load_dotenv()"
   ]
  },
  {
   "cell_type": "code",
   "execution_count": 16,
   "id": "de7895ae",
   "metadata": {},
   "outputs": [
    {
     "name": "stdout",
     "output_type": "stream",
     "text": [
      "* Running on local URL:  http://127.0.0.1:7873\n",
      "* To create a public link, set `share=True` in `launch()`.\n"
     ]
    },
    {
     "data": {
      "text/html": [
       "<div><iframe src=\"http://127.0.0.1:7873/\" width=\"100%\" height=\"500\" allow=\"autoplay; camera; microphone; clipboard-read; clipboard-write;\" frameborder=\"0\" allowfullscreen></iframe></div>"
      ],
      "text/plain": [
       "<IPython.core.display.HTML object>"
      ]
     },
     "metadata": {},
     "output_type": "display_data"
    }
   ],
   "source": [
    "# 필수 라이브러리 임포트\n",
    "from langchain_core.prompts import ChatPromptTemplate, MessagesPlaceholder\n",
    "from langchain_core.messages import HumanMessage, AIMessage\n",
    "from langchain_openai import ChatOpenAI\n",
    "from langchain_core.output_parsers import StrOutputParser\n",
    "import gradio as gr\n",
    "import os\n",
    "\n",
    "api_key = os.getenv(\"OPENAI_API_KEY\")\n",
    "\n",
    "summarize_template = [\n",
    "    (\"assistant\", \"\"\"당신은 여행 요청 분석 전문가입니다. \n",
    "    사용자의 메시지에서 여행과 관련된 핵심 정보를 추출해주세요.\"\"\"),\n",
    "    (\"user\", \"\"\"다음 내용에서 여행 관련 핵심 정보를 추출해주세요:\n",
    "    - 여행 기간/날짜\n",
    "    - 인원수\n",
    "    - 예산\n",
    "    - 선호 지역/테마\n",
    "    - 특별 요구사항\n",
    "    \n",
    "    텍스트: {user_input}\"\"\")\n",
    "]\n",
    "summarize_prompt = ChatPromptTemplate.from_messages(summarize_template)\n",
    "\n",
    "schedule_template = [\n",
    "    (\"assistant\", \"\"\"당신은 여행 일정 구성 전문가입니다.\n",
    "    추출된 정보를 바탕으로 기본 일정 프레임워크를 생성해주세요.\"\"\"),\n",
    "    (\"user\", \"\"\"다음 정보를 바탕으로 기본 일정 구조를 만들어주세요:\n",
    "    {user_input}\n",
    "    \n",
    "    포함사항:\n",
    "    - 일자별 주요 활동\n",
    "    - 이동 경로\n",
    "    - 숙박 지역\"\"\")\n",
    "]\n",
    "schedule_prompt = ChatPromptTemplate.from_messages(schedule_template)\n",
    "\n",
    "planning_template = [\n",
    "            (\"assistant\", \"\"\"당신은 맞춤형 여행 일정 계획 AI 어시스턴트입니다.\n",
    "            다음 가이드라인을 따라 상세한 여행 계획을 수립해주세요:\n",
    "            \n",
    "            기본 원칙:\n",
    "            • 한국어로 답변\n",
    "            • 한국 내 여행지 추천\n",
    "            • 실용적이고 실현 가능한 계획 수립\n",
    "            • 최신 데이터 기반 답변\n",
    "            • 숙소와 식당 등 15kg이상 반려견 동반이 가능한 곳\n",
    "            \n",
    "            포함사항:\n",
    "            • 상세 일정표 (시간대별)\n",
    "            • 예산 계획 및 비용 분석\n",
    "            • 교통편 및 이동 방법\n",
    "            • 숙박 추천 및 예약 팁\n",
    "            • 날씨별 준비사항\n",
    "            • 현지 맛집 및 명소 추천\n",
    "            • 비상 연락처 및 안전 정보\n",
    "            \n",
    "            출력 형식:\n",
    "            • 구조화된 일정표\n",
    "            • 예산 요약표\n",
    "            • 체크리스트\"\"\"),\n",
    "            MessagesPlaceholder(\"chat_history\"),\n",
    "            (\"user\", \"다음 기본 일정을 바탕으로 상세 여행 계획을 수립해주세요: {user_input}\"),\n",
    "        ]\n",
    "planning_prompt = ChatPromptTemplate.from_messages(planning_template)\n",
    "\n",
    "output_parser = StrOutputParser()\n",
    "model = ChatOpenAI(\n",
    "    model=\"gpt-4.1-mini\", \n",
    "    temperature=0.7, \n",
    "    top_p=0.9,\n",
    "    presence_penalty=0.3,\n",
    "    frequency_penalty=0.3,\n",
    ")\n",
    "\n",
    "summarize_chain = summarize_prompt | model | output_parser\n",
    "schedule_chain = schedule_prompt | model | output_parser\n",
    "planning_chain = planning_prompt | model | output_parser\n",
    "\n",
    "def answer_invoke(message, history):\n",
    "\n",
    "    history_messages = []\n",
    "    for msg in history:\n",
    "        if msg['role'] == \"user\":\n",
    "            history_messages.append(HumanMessage(content=msg['content']))\n",
    "        elif msg['role'] == \"assistant\":\n",
    "            history_messages.append(AIMessage(content=msg['content']))\n",
    "\n",
    "    # 요약\n",
    "    summarized = summarize_chain.invoke({\"user_input\": message})\n",
    "    # print(f\"요약 결과: {summarized}\")\n",
    "    \n",
    "    # 일정 생성\n",
    "    schedule = schedule_chain.invoke({\"user_input\": summarized})\n",
    "    # print(f\"일정 생성 결과: {schedule}\")\n",
    "\n",
    "    # 세부 계획 수립\n",
    "    plan_detail = planning_chain.invoke({\n",
    "        \"chat_history\": history_messages,\n",
    "        \"user_input\": schedule\n",
    "    })\n",
    "\n",
    "    return plan_detail\n",
    "\n",
    "# Gradio ChatInterface 객체 생성\n",
    "demo = gr.ChatInterface(\n",
    "    fn=answer_invoke,         # 메시지 처리 함수\n",
    "    type=\"messages\",\n",
    "    title=\"맞춤형 여행 일정 계획 어시스턴트\", # 채팅 인터페이스의 제목\n",
    "    description=\"\"\"\n",
    "        해로와의 행복한 한국 내 여행 계획을 도와드리는 AI 어시스턴트입니다.\n",
    "        \n",
    "        **사용법:**\n",
    "        • 여행 기간, 인원, 예산, 선호 지역을 알려주세요\n",
    "        • 예시: \"2박3일 제주도 여행, 커플, 예산 100만원, 자연경관 선호\"\n",
    "        \n",
    "        **제공 서비스:**\n",
    "        • 상세 일정표 • 예산 계획 • 교통편 안내 • 숙박 추천 • 맛집 정보\n",
    "        \"\"\",\n",
    "        examples=[\n",
    "            \"2박3일 부산 여행 계획해줘, 예산은 70만원이고 해산물을 좋아해\",\n",
    "            \"1박2일 경주 역사문화 여행, 가족 4명, 예산 50만원\",\n",
    "            \"3박4일 강원도 자연휴양 여행, 커플, 예산 120만원\"\n",
    "        ],\n",
    "    )\n",
    "\n",
    "# Gradio 인터페이스 실행\n",
    "if __name__ == \"__main__\":\n",
    "    demo.launch()"
   ]
  },
  {
   "cell_type": "code",
   "execution_count": 2,
   "id": "b9aede30",
   "metadata": {},
   "outputs": [
    {
     "name": "stdout",
     "output_type": "stream",
     "text": [
      "Closing server running on port: 7860\n"
     ]
    }
   ],
   "source": [
    "demo.close()"
   ]
  }
 ],
 "metadata": {
  "colab": {
   "provenance": []
  },
  "kernelspec": {
   "display_name": "faq_bot",
   "language": "python",
   "name": "python3"
  },
  "language_info": {
   "codemirror_mode": {
    "name": "ipython",
    "version": 3
   },
   "file_extension": ".py",
   "mimetype": "text/x-python",
   "name": "python",
   "nbconvert_exporter": "python",
   "pygments_lexer": "ipython3",
   "version": "3.12.11"
  }
 },
 "nbformat": 4,
 "nbformat_minor": 5
}
